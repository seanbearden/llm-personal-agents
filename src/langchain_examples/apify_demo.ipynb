{
 "cells": [
  {
   "cell_type": "markdown",
   "source": [
    "# Apify Demo\n",
    "\n",
    "Modified from [Apify](https://python.langchain.com/en/latest/modules/agents/tools/examples/apify.html)\n",
    "\n",
    "Need to install apify client: ```pip install apify-client chromadb tiktoken```"
   ],
   "metadata": {
    "collapsed": false
   }
  },
  {
   "cell_type": "code",
   "execution_count": 6,
   "outputs": [
    {
     "data": {
      "text/plain": "True"
     },
     "execution_count": 6,
     "metadata": {},
     "output_type": "execute_result"
    }
   ],
   "source": [
    "\n",
    "from langchain.document_loaders.base import Document\n",
    "from langchain.indexes import VectorstoreIndexCreator\n",
    "from langchain.utilities import ApifyWrapper\n",
    "# import os\n",
    "# os.environ[\"OPENAI_API_KEY\"] = \"Your OpenAI API key\"\n",
    "# os.environ[\"APIFY_API_TOKEN\"] = \"Your Apify API token\"\n",
    "\n",
    "# get keys from .env\n",
    "from dotenv import load_dotenv\n",
    "\n",
    "load_dotenv()"
   ],
   "metadata": {
    "collapsed": false,
    "ExecuteTime": {
     "start_time": "2023-04-17T20:02:28.340654Z",
     "end_time": "2023-04-17T20:02:28.350044Z"
    }
   }
  },
  {
   "cell_type": "code",
   "execution_count": 15,
   "outputs": [],
   "source": [
    "# warning: large dataset\n",
    "apify = ApifyWrapper()\n",
    "loader = apify.call_actor(\n",
    "    actor_id=\"apify/website-content-crawler\",\n",
    "    run_input={\"startUrls\": [{\"url\": \"https://python.langchain.com/en/latest/\"}]},\n",
    "    dataset_mapping_function=lambda item: Document(\n",
    "        page_content=item[\"text\"] or \"\", metadata={\"source\": item[\"url\"]}\n",
    "    ),\n",
    ")"
   ],
   "metadata": {
    "collapsed": false,
    "ExecuteTime": {
     "start_time": "2023-04-17T21:09:07.420564Z",
     "end_time": "2023-04-17T21:31:09.736163Z"
    }
   }
  },
  {
   "cell_type": "code",
   "execution_count": 7,
   "outputs": [
    {
     "name": "stderr",
     "output_type": "stream",
     "text": [
      "Using embedded DuckDB without persistence: data will be transient\n"
     ]
    }
   ],
   "source": [
    "index = VectorstoreIndexCreator().from_loaders([loader])"
   ],
   "metadata": {
    "collapsed": false,
    "ExecuteTime": {
     "start_time": "2023-04-17T20:02:34.300297Z",
     "end_time": "2023-04-17T20:03:34.663675Z"
    }
   }
  },
  {
   "cell_type": "code",
   "execution_count": 8,
   "outputs": [
    {
     "name": "stdout",
     "output_type": "stream",
     "text": [
      " LangChain is a framework for developing applications powered by language models. It provides memory components, chains, agents, and use cases for personal assistants.\n",
      "\n",
      "https://python.langchain.com/en/latest/_sources/index.rst, https://python.langchain.com/en/latest/modules/memory.html, https://python.langchain.com/en/latest/, https://python.langchain.com/en/latest/modules/indexes/document_loaders/examples/diffbot.html\n"
     ]
    }
   ],
   "source": [
    "query = \"What is LangChain?\"\n",
    "result = index.query_with_sources(query)\n",
    "\n",
    "print(result[\"answer\"])\n",
    "print(result[\"sources\"])"
   ],
   "metadata": {
    "collapsed": false,
    "ExecuteTime": {
     "start_time": "2023-04-17T20:04:09.215931Z",
     "end_time": "2023-04-17T20:04:14.170371Z"
    }
   }
  },
  {
   "cell_type": "code",
   "execution_count": 24,
   "outputs": [
    {
     "name": "stdout",
     "output_type": "stream",
     "text": [
      " The word 'hallucinate' does not appear in the docs.\n",
      "\n",
      "https://python.langchain.com/en/latest/modules/indexes/document_loaders/examples/imsdb.html, https://python.langchain.com/en/latest/_sources/modules/indexes/document_loaders/examples/imsdb.ipynb, https://python.langchain.com/en/latest/_sources/modules/models/llms/integrations/replicate.ipynb\n"
     ]
    }
   ],
   "source": [
    "query = \"Does the word 'hallucinate' appear in the docs?\"\n",
    "result = index.query_with_sources(query)\n",
    "\n",
    "print(result[\"answer\"])\n",
    "print(result[\"sources\"])"
   ],
   "metadata": {
    "collapsed": false,
    "ExecuteTime": {
     "start_time": "2023-04-18T06:49:36.093053Z",
     "end_time": "2023-04-18T06:49:41.057896Z"
    }
   }
  },
  {
   "cell_type": "code",
   "execution_count": 40,
   "outputs": [
    {
     "name": "stdout",
     "output_type": "stream",
     "text": [
      " There are no references to drug use in the docs.\n",
      "\n",
      "https://python.langchain.com/en/latest/_sources/modules/indexes/document_loaders/examples/imsdb.ipynb, https://python.langchain.com/en/latest/modules/indexes/document_loaders/examples/imsdb.html, https://python.langchain.com/en/latest/_sources/modules/indexes/document_loaders/examples/imsdb.ipynb\n"
     ]
    }
   ],
   "source": [
    "query = \"Are there any references to drug use in the docs?\"\n",
    "result = index.query_with_sources(query)\n",
    "\n",
    "print(result[\"answer\"])\n",
    "print(result[\"sources\"])"
   ],
   "metadata": {
    "collapsed": false,
    "ExecuteTime": {
     "start_time": "2023-04-18T19:42:00.622797Z",
     "end_time": "2023-04-18T19:42:05.615455Z"
    }
   }
  },
  {
   "cell_type": "code",
   "execution_count": 41,
   "outputs": [
    {
     "name": "stdout",
     "output_type": "stream",
     "text": [
      " Sam is the founder of a company called Daimon and is working on a hackathon project with Deven to add more complex memory structures to Langchain, including a key-value store for entities mentioned so far in the conversation. He seems to be very motivated and passionate about his project, and is working hard to make it a success.\n",
      "\n",
      "https://python.langchain.com/en/latest/modules/memory/types/entity_summary_memory.html\n"
     ]
    }
   ],
   "source": [
    "query = \"Who is sam?\"\n",
    "result = index.query_with_sources(query)\n",
    "\n",
    "print(result[\"answer\"])\n",
    "print(result[\"sources\"])"
   ],
   "metadata": {
    "collapsed": false,
    "ExecuteTime": {
     "start_time": "2023-04-18T19:42:05.621964Z",
     "end_time": "2023-04-18T19:42:09.898438Z"
    }
   }
  },
  {
   "cell_type": "code",
   "execution_count": 26,
   "outputs": [
    {
     "name": "stdout",
     "output_type": "stream",
     "text": [
      " Sam is the founder of a company called Daimon and is working on a hackathon project with Deven to add more complex memory structures to Langchain, including a key-value store for entities mentioned so far in the conversation. He seems to be very motivated and passionate about his project, and is working hard to make it a success.\n",
      "\n",
      "https://python.langchain.com/en/latest/modules/memory/types/entity_summary_memory.html\n"
     ]
    }
   ],
   "source": [
    "from langchain.embeddings.openai import OpenAIEmbeddings\n",
    "from langchain.text_splitter import CharacterTextSplitter\n",
    "from langchain.vectorstores import Chroma\n",
    "\n",
    "# write embeddings to disk\n",
    "persist_directory = '../../data/chroma_dbs/langchain_0_0_142'\n",
    "\n",
    "documents = loader.load()\n",
    "text_splitter = CharacterTextSplitter(chunk_size=512, chunk_overlap=20)\n",
    "docs = text_splitter.split_documents(documents)\n",
    "\n",
    "embedding = OpenAIEmbeddings()\n",
    "\n",
    "vectordb = Chroma.from_documents(documents=docs, embedding=embedding, persist_directory=persist_directory)\n",
    "vectordb.persist()"
   ],
   "metadata": {
    "collapsed": false
   }
  }
 ],
 "metadata": {
  "kernelspec": {
   "display_name": "Python 3",
   "language": "python",
   "name": "python3"
  },
  "language_info": {
   "codemirror_mode": {
    "name": "ipython",
    "version": 2
   },
   "file_extension": ".py",
   "mimetype": "text/x-python",
   "name": "python",
   "nbconvert_exporter": "python",
   "pygments_lexer": "ipython2",
   "version": "2.7.6"
  }
 },
 "nbformat": 4,
 "nbformat_minor": 0
}

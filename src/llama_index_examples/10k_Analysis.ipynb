{
 "cells": [
  {
   "cell_type": "code",
   "source": [
    "# download files\n",
    "# !mkdir data\n",
    "!wget https://www.dropbox.com/s/948jr9cfs7fgj99/UBER.zip?dl=1 -O ../../data/datasets/UBER.zip\n",
    "!unzip ../../data/datasets/UBER.zip -d ../../data/datasets"
   ],
   "metadata": {
    "colab": {
     "base_uri": "https://localhost:8080/"
    },
    "id": "YC4R6nkCp91d",
    "outputId": "1792fab3-0a0c-48c1-c3ce-f07091a06d3e",
    "ExecuteTime": {
     "start_time": "2023-04-18T07:58:35.129160Z",
     "end_time": "2023-04-18T07:58:36.906643Z"
    }
   },
   "id": "YC4R6nkCp91d",
   "execution_count": null,
   "outputs": []
  },
  {
   "cell_type": "code",
   "source": [
    "# set text wrapping\n",
    "from IPython.display import HTML, display\n",
    "\n",
    "def set_css():\n",
    "  display(HTML('''\n",
    "  <style>\n",
    "    pre {\n",
    "        white-space: pre-wrap;\n",
    "    }\n",
    "  </style>\n",
    "  '''))\n",
    "get_ipython().events.register('pre_run_cell', set_css)"
   ],
   "metadata": {
    "id": "CuHeyb224pI2",
    "ExecuteTime": {
     "start_time": "2023-04-18T19:58:39.235065Z",
     "end_time": "2023-04-18T19:58:39.239668Z"
    }
   },
   "id": "CuHeyb224pI2",
   "execution_count": 1,
   "outputs": []
  },
  {
   "cell_type": "code",
   "source": [
    "from llama_index import ServiceContext\n",
    "from llama_index import download_loader, GPTSimpleVectorIndex\n",
    "from pathlib import Path\n",
    "\n",
    "import os\n",
    "# os.environ['OPENAI_API_KEY'] = \"\"\n",
    "\n",
    "# get keys from .env\n",
    "from dotenv import load_dotenv\n",
    "\n",
    "_ = load_dotenv()"
   ],
   "metadata": {
    "id": "QaFX6KfIz-Zn",
    "ExecuteTime": {
     "start_time": "2023-04-18T19:58:39.241505Z",
     "end_time": "2023-04-18T19:58:40.322262Z"
    }
   },
   "id": "QaFX6KfIz-Zn",
   "execution_count": 2,
   "outputs": [
    {
     "data": {
      "text/plain": "<IPython.core.display.HTML object>",
      "text/html": "\n  <style>\n    pre {\n        white-space: pre-wrap;\n    }\n  </style>\n  "
     },
     "metadata": {},
     "output_type": "display_data"
    }
   ]
  },
  {
   "cell_type": "markdown",
   "id": "354ddbdf-0045-474b-b6f2-1b4c22ad360a",
   "metadata": {
    "id": "354ddbdf-0045-474b-b6f2-1b4c22ad360a"
   },
   "source": [
    "### Ingest Unstructured Data Through the Unstructured.io Reader\n",
    "\n",
    "Leverage the capabilities of Unstructured.io HTML parsing.\n",
    "Downloaded through LlamaHub."
   ]
  },
  {
   "cell_type": "code",
   "execution_count": 3,
   "id": "0371970e-c11c-4534-aa22-7cfdfe411bb3",
   "metadata": {
    "id": "0371970e-c11c-4534-aa22-7cfdfe411bb3",
    "ExecuteTime": {
     "start_time": "2023-04-18T19:58:40.322755Z",
     "end_time": "2023-04-18T19:58:40.780879Z"
    }
   },
   "outputs": [
    {
     "data": {
      "text/plain": "<IPython.core.display.HTML object>",
      "text/html": "\n  <style>\n    pre {\n        white-space: pre-wrap;\n    }\n  </style>\n  "
     },
     "metadata": {},
     "output_type": "display_data"
    }
   ],
   "source": [
    "UnstructuredReader = download_loader(\"UnstructuredReader\", refresh_cache=True)"
   ]
  },
  {
   "cell_type": "code",
   "execution_count": 4,
   "id": "29084a11-f3da-428d-ae17-27b85a365e84",
   "metadata": {
    "id": "29084a11-f3da-428d-ae17-27b85a365e84",
    "outputId": "819e4c48-0bb0-4e22-a84c-3021fbedbc4a",
    "colab": {
     "base_uri": "https://localhost:8080/"
    },
    "ExecuteTime": {
     "start_time": "2023-04-18T19:58:40.781951Z",
     "end_time": "2023-04-18T19:58:51.344987Z"
    }
   },
   "outputs": [
    {
     "data": {
      "text/plain": "<IPython.core.display.HTML object>",
      "text/html": "\n  <style>\n    pre {\n        white-space: pre-wrap;\n    }\n  </style>\n  "
     },
     "metadata": {},
     "output_type": "display_data"
    },
    {
     "name": "stderr",
     "output_type": "stream",
     "text": [
      "[nltk_data] Downloading package punkt to\n",
      "[nltk_data]     /Users/seanbearden/nltk_data...\n",
      "[nltk_data]   Package punkt is already up-to-date!\n",
      "[nltk_data] Downloading package averaged_perceptron_tagger to\n",
      "[nltk_data]     /Users/seanbearden/nltk_data...\n",
      "[nltk_data]   Package averaged_perceptron_tagger is already up-to-\n",
      "[nltk_data]       date!\n",
      "INFO:unstructured:Reading document from string ...\n",
      "INFO:unstructured:Reading document ...\n",
      "INFO:unstructured:Reading document from string ...\n",
      "INFO:unstructured:Reading document ...\n",
      "INFO:unstructured:Reading document from string ...\n",
      "INFO:unstructured:Reading document ...\n",
      "INFO:unstructured:Reading document from string ...\n",
      "INFO:unstructured:Reading document ...\n"
     ]
    }
   ],
   "source": [
    "loader = UnstructuredReader()\n",
    "doc_set = {}\n",
    "all_docs = []\n",
    "years = [2022, 2021, 2020, 2019]\n",
    "path = './../../data/datasets/UBER'\n",
    "for year in years:\n",
    "    year_docs = loader.load_data(file=Path(f'{path}/UBER_{year}.html'), split_documents=False)\n",
    "    # insert year metadata into each year\n",
    "    for d in year_docs:\n",
    "        d.extra_info = {\"year\": year}\n",
    "    doc_set[year] = year_docs\n",
    "    all_docs.extend(year_docs)\n",
    "\n"
   ]
  },
  {
   "cell_type": "markdown",
   "source": [
    "### Setup Service Context"
   ],
   "metadata": {
    "id": "DzuCgTq3Vs53"
   },
   "id": "DzuCgTq3Vs53"
  },
  {
   "cell_type": "code",
   "source": [
    "\n",
    "\n",
    "service_context = ServiceContext.from_defaults(chunk_size_limit=512)"
   ],
   "metadata": {
    "id": "1vdCAXCoVvs0",
    "ExecuteTime": {
     "start_time": "2023-04-18T19:58:51.346301Z",
     "end_time": "2023-04-18T19:58:51.540365Z"
    }
   },
   "id": "1vdCAXCoVvs0",
   "execution_count": 5,
   "outputs": [
    {
     "data": {
      "text/plain": "<IPython.core.display.HTML object>",
      "text/html": "\n  <style>\n    pre {\n        white-space: pre-wrap;\n    }\n  </style>\n  "
     },
     "metadata": {},
     "output_type": "display_data"
    }
   ]
  },
  {
   "cell_type": "markdown",
   "id": "08b367eb-f9cc-449a-99c5-dfcfbef20a9d",
   "metadata": {
    "id": "08b367eb-f9cc-449a-99c5-dfcfbef20a9d"
   },
   "source": [
    "### Setup a Vector Index for each SEC filing\n",
    "\n",
    "We setup a separate vector index for each SEC filing from 2019-2022.\n",
    "\n",
    "We also optionally initialize a \"global\" index by dumping all files into the vector store."
   ]
  },
  {
   "cell_type": "code",
   "execution_count": 6,
   "id": "8fbe18a6-4a08-441d-adae-a6195f2cdcb1",
   "metadata": {
    "id": "8fbe18a6-4a08-441d-adae-a6195f2cdcb1",
    "outputId": "bdc1d207-efb2-4f82-bf6c-668cfb7ca98f",
    "ExecuteTime": {
     "start_time": "2023-04-18T19:58:57.661505Z",
     "end_time": "2023-04-18T20:00:40.441799Z"
    }
   },
   "outputs": [
    {
     "data": {
      "text/plain": "<IPython.core.display.HTML object>",
      "text/html": "\n  <style>\n    pre {\n        white-space: pre-wrap;\n    }\n  </style>\n  "
     },
     "metadata": {},
     "output_type": "display_data"
    },
    {
     "name": "stderr",
     "output_type": "stream",
     "text": [
      "INFO:llama_index.token_counter.token_counter:> [build_index_from_nodes] Total LLM token usage: 0 tokens\n",
      "INFO:llama_index.token_counter.token_counter:> [build_index_from_nodes] Total embedding token usage: 232797 tokens\n",
      "INFO:llama_index.token_counter.token_counter:> [build_index_from_nodes] Total LLM token usage: 0 tokens\n",
      "INFO:llama_index.token_counter.token_counter:> [build_index_from_nodes] Total embedding token usage: 241424 tokens\n",
      "INFO:llama_index.token_counter.token_counter:> [build_index_from_nodes] Total LLM token usage: 0 tokens\n",
      "INFO:llama_index.token_counter.token_counter:> [build_index_from_nodes] Total embedding token usage: 257154 tokens\n",
      "INFO:llama_index.token_counter.token_counter:> [build_index_from_nodes] Total LLM token usage: 0 tokens\n",
      "INFO:llama_index.token_counter.token_counter:> [build_index_from_nodes] Total embedding token usage: 246480 tokens\n"
     ]
    }
   ],
   "source": [
    "indices_path = './../../data/indices/UBER'\n",
    "if not os.path.exists(indices_path):\n",
    "    os.makedirs(indices_path)\n",
    "# initialize simple vector indices + global vector index\n",
    "# NOTE: don't run this cell if the indices are already loaded! \n",
    "index_set = {}\n",
    "for year in years:\n",
    "    cur_index = GPTSimpleVectorIndex.from_documents(doc_set[year], service_context=service_context)\n",
    "    index_set[year] = cur_index\n",
    "    cur_index.save_to_disk(f'{indices_path}/index_{year}.json')\n",
    "    "
   ]
  },
  {
   "cell_type": "code",
   "execution_count": 7,
   "id": "d3a5e993-99ae-445a-bcae-e2d415d84e34",
   "metadata": {
    "id": "d3a5e993-99ae-445a-bcae-e2d415d84e34",
    "ExecuteTime": {
     "start_time": "2023-04-18T20:00:40.442400Z",
     "end_time": "2023-04-18T20:00:42.079393Z"
    }
   },
   "outputs": [
    {
     "data": {
      "text/plain": "<IPython.core.display.HTML object>",
      "text/html": "\n  <style>\n    pre {\n        white-space: pre-wrap;\n    }\n  </style>\n  "
     },
     "metadata": {},
     "output_type": "display_data"
    }
   ],
   "source": [
    "# Load indices from disk\n",
    "index_set = {}\n",
    "for year in years:\n",
    "    cur_index = GPTSimpleVectorIndex.load_from_disk(f'{indices_path}/index_{year}.json', service_context=service_context)\n",
    "    index_set[year] = cur_index"
   ]
  },
  {
   "cell_type": "code",
   "execution_count": 8,
   "id": "deef2891-c6cc-4822-8311-efd99c36327a",
   "metadata": {
    "id": "deef2891-c6cc-4822-8311-efd99c36327a",
    "outputId": "25216297-036f-4ef7-8323-9f8a3da5e60a",
    "colab": {
     "base_uri": "https://localhost:8080/",
     "height": 145,
     "referenced_widgets": [
      "a292f2af029c4340813e63370bf73f12",
      "755797e4682642399c367962ba737504",
      "548c125bc716475ba6708fa80f5b1b61",
      "37cf19bcc68d41d7bc6b411cd273a88c",
      "ebc4716ea8d849c58c43c26f5caf18fe",
      "eb486eb0dc2f44eabcac46a18b711ff1",
      "3e45628539864cd2b1297c2be1d35c98",
      "387d0ca6bf2c4341804cfa43a71b6451",
      "b1c406aebffa49f48c3457a9482a47a3",
      "8e1f2102db184538a35ed9c8498d5bbc",
      "0cccb700fc264051abc0b7458716054f",
      "1a259e1a45bc4043b81243d033b79752",
      "f0963a05a29d4e6f8a2ab48fc8a26a1d",
      "0a8d7bc06ed646b78956101c5c62fb1f",
      "ef339a504f984cc2ac07c8252aa2f6d5",
      "3d3c2d54cdf44a06a99c35d0e1b33b0a",
      "7e96275c58434a04a49e56598b12656a",
      "b2653a474569425ebb546f93241a465e",
      "112ef61e952444369d6c0dce1d1098a8",
      "afe741aff3f54ae6a89b5965888599f4",
      "a8bae11fb1aa40348e611a1592e0ff0a",
      "9bf6e3e259cd4bc0bd4c714c725d0782",
      "0cd2bf060b4c4daeaf9156705ae409ab",
      "3c4ce2ec8ae54042864d1d0261355166",
      "2e27352e29354001b53bc4d07bd4c1ed",
      "709f853d0ae846e7945c74ff83cae52e",
      "54a3bafa2af54475abe57e37e2399a45",
      "94343417f60a4f9d9a745dfa2c967893",
      "f6331afe201d49319b76e528e01a9b4b",
      "792a299872704c10af8061175db96031",
      "2d7895836c814084be531103d0218650",
      "10420e2dba3244f48c8fcd7d35904e41",
      "d7b1b50d3f6843be90e00d3352139b2f",
      "bbdfb7b736f546fea9f2a56a815a8e8f",
      "0dc1dea99b774b74a84c9c02b6335b94",
      "5edb09d55e7b45c881bbf6a38de92f60",
      "7bd8740ee12a486fbb3d3ae0a2c493b8",
      "fa9eff66d6084f0a970408b620afa686",
      "3b4a5130401a44daa116828b9fa8d17b",
      "21efd9c072db42bf89ad5dbd96b52a01",
      "d75f60b7f0b94b3d88046ac990446ad4",
      "609d29b907424f049de6ef0b86a6541d",
      "6dc9a8ca9270413893e28e3a3807dd51",
      "4539f47e9e4c444e9f610dea60db5eb0"
     ]
    },
    "ExecuteTime": {
     "start_time": "2023-04-18T20:01:01.597820Z",
     "end_time": "2023-04-18T20:02:47.220623Z"
    }
   },
   "outputs": [
    {
     "data": {
      "text/plain": "<IPython.core.display.HTML object>",
      "text/html": "\n  <style>\n    pre {\n        white-space: pre-wrap;\n    }\n  </style>\n  "
     },
     "metadata": {},
     "output_type": "display_data"
    },
    {
     "name": "stderr",
     "output_type": "stream",
     "text": [
      "INFO:llama_index.token_counter.token_counter:> [build_index_from_nodes] Total LLM token usage: 0 tokens\n",
      "INFO:llama_index.token_counter.token_counter:> [build_index_from_nodes] Total embedding token usage: 977855 tokens\n"
     ]
    }
   ],
   "source": [
    "# NOTE: this global index is a single vector store containing all documents\n",
    "# Only relevant for the section below: \"Can a single vector index answer questions across years?\"\n",
    "global_index = GPTSimpleVectorIndex.from_documents(all_docs, service_context=service_context)\n",
    "global_index.save_to_disk(f'{indices_path}/index_global.json')"
   ]
  },
  {
   "cell_type": "code",
   "source": [
    "global_index = GPTSimpleVectorIndex.load_from_disk(f'{indices_path}/index_global.json', service_context=service_context)"
   ],
   "metadata": {
    "id": "Hxp2pDbaueNK",
    "ExecuteTime": {
     "start_time": "2023-04-18T20:02:47.221418Z",
     "end_time": "2023-04-18T20:02:48.952032Z"
    }
   },
   "id": "Hxp2pDbaueNK",
   "execution_count": 9,
   "outputs": [
    {
     "data": {
      "text/plain": "<IPython.core.display.HTML object>",
      "text/html": "\n  <style>\n    pre {\n        white-space: pre-wrap;\n    }\n  </style>\n  "
     },
     "metadata": {},
     "output_type": "display_data"
    }
   ]
  },
  {
   "cell_type": "markdown",
   "id": "223815d2-6c2e-4758-bc4d-5e3e3acfc6f0",
   "metadata": {
    "id": "223815d2-6c2e-4758-bc4d-5e3e3acfc6f0"
   },
   "source": [
    "### Ask Initial Questions over a Given Year (2020)\n",
    "\n",
    "Let's first ask some questions over the UBER 10-k for 2020! "
   ]
  },
  {
   "cell_type": "code",
   "execution_count": 10,
   "id": "bfc9ade8-c6eb-4d5d-ab04-3442dfe3199b",
   "metadata": {
    "id": "bfc9ade8-c6eb-4d5d-ab04-3442dfe3199b",
    "ExecuteTime": {
     "start_time": "2023-04-18T20:02:48.943407Z",
     "end_time": "2023-04-18T20:03:04.097774Z"
    }
   },
   "outputs": [
    {
     "data": {
      "text/plain": "<IPython.core.display.HTML object>",
      "text/html": "\n  <style>\n    pre {\n        white-space: pre-wrap;\n    }\n  </style>\n  "
     },
     "metadata": {},
     "output_type": "display_data"
    },
    {
     "name": "stderr",
     "output_type": "stream",
     "text": [
      "INFO:llama_index.token_counter.token_counter:> [query] Total LLM token usage: 2102 tokens\n",
      "INFO:llama_index.token_counter.token_counter:> [query] Total embedding token usage: 11 tokens\n"
     ]
    }
   ],
   "source": [
    "response = index_set[2020].query(\"What were some of the biggest risk factors in 2020?\", similarity_top_k=3)"
   ]
  },
  {
   "cell_type": "code",
   "execution_count": 11,
   "id": "266e9ec7-4ab7-4133-854d-80a178203a63",
   "metadata": {
    "id": "266e9ec7-4ab7-4133-854d-80a178203a63",
    "ExecuteTime": {
     "start_time": "2023-04-18T20:03:04.099499Z",
     "end_time": "2023-04-18T20:03:04.105818Z"
    }
   },
   "outputs": [
    {
     "data": {
      "text/plain": "<IPython.core.display.HTML object>",
      "text/html": "\n  <style>\n    pre {\n        white-space: pre-wrap;\n    }\n  </style>\n  "
     },
     "metadata": {},
     "output_type": "display_data"
    },
    {
     "name": "stdout",
     "output_type": "stream",
     "text": [
      "\n",
      "\n",
      "Some of the biggest risk factors in 2020 included: privacy and cybersecurity risks associated with increased remote working; legal and regulatory challenges related to the COVID-19 pandemic, including potential fines or other enforcement measures resulting from the launch of new services, features, or health and safety requirements; financial impacts from the COVID-19 pandemic, including workforce reductions and changes to pricing models; the uncertainty of the pandemic's cumulative and ultimate impact on our future business operations, liquidity, financial condition, and results of operations; the duration of the spread of the outbreak and any future “waves” or resurgences of the outbreak or variants of the virus, both globally and within the United States, the impact on capital and financial markets, foreign currencies exchange, governmental or regulatory orders that impact our business and whether the impacts may result in permanent changes to our end-users’ behaviors; the potential for weak demand for our Mobility offering for a significant length of time; the timing of widespread adoption of vaccines against COVID-19 in the United States or internationally; the impact the COVID-19 pandemic will have on our business partners and third-party vendors; the extreme volatility in financial markets; and the potential for cascading effects of the pandemic that are\n"
     ]
    }
   ],
   "source": [
    "print(response)"
   ]
  },
  {
   "cell_type": "code",
   "execution_count": 12,
   "id": "e692af72-cc77-4dca-a35e-df4c5c88d2cd",
   "metadata": {
    "id": "e692af72-cc77-4dca-a35e-df4c5c88d2cd",
    "ExecuteTime": {
     "start_time": "2023-04-18T20:03:04.105022Z",
     "end_time": "2023-04-18T20:03:22.814773Z"
    }
   },
   "outputs": [
    {
     "data": {
      "text/plain": "<IPython.core.display.HTML object>",
      "text/html": "\n  <style>\n    pre {\n        white-space: pre-wrap;\n    }\n  </style>\n  "
     },
     "metadata": {},
     "output_type": "display_data"
    },
    {
     "name": "stderr",
     "output_type": "stream",
     "text": [
      "INFO:llama_index.token_counter.token_counter:> [query] Total LLM token usage: 2285 tokens\n",
      "INFO:llama_index.token_counter.token_counter:> [query] Total embedding token usage: 11 tokens\n"
     ]
    }
   ],
   "source": [
    "response = index_set[2020].query(\"What were some of the signifcant acquisitions?\", similarity_top_k=3)"
   ]
  },
  {
   "cell_type": "code",
   "execution_count": 13,
   "id": "a4f02821-12db-4491-aed0-02891496266f",
   "metadata": {
    "id": "a4f02821-12db-4491-aed0-02891496266f",
    "ExecuteTime": {
     "start_time": "2023-04-18T20:03:22.813077Z",
     "end_time": "2023-04-18T20:03:22.820879Z"
    }
   },
   "outputs": [
    {
     "data": {
      "text/plain": "<IPython.core.display.HTML object>",
      "text/html": "\n  <style>\n    pre {\n        white-space: pre-wrap;\n    }\n  </style>\n  "
     },
     "metadata": {},
     "output_type": "display_data"
    },
    {
     "name": "stdout",
     "output_type": "stream",
     "text": [
      "\n",
      "\n",
      "Some of the significant acquisitions mentioned in the context information include the divestiture of our ATG business to Aurora, the divestiture of our Uber Elevate business to Joby, the Yandex.Taxi joint venture in Russia/CIS, the agreement to enter into a joint venture with SK Telecom Co., LTD., the acquisition of Careem, the purchase of a controlling interest in Cornershop, the acquisition of Routematch Holdings, Inc., the acquisition of Postmates Inc., the divestiture of Uber Eats India to Zomato, and the divestiture of certain assets of our JUMP business and investment in Lime. These acquisitions resulted in the recognition of $2.5 billion in goodwill in our Mobility segment, $540 million in intangible assets, $384 million in goodwill in our Delivery segment, $122 million in intangible assets, $91 million in goodwill in our Mobility segment, $27 million in intangible assets, and $3.1 billion in goodwill in our Delivery segment and $1.0 billion in intangible assets. Refer to Note 18 – Business Combinations for further information of our acquisitions.\n"
     ]
    }
   ],
   "source": [
    "print(response)"
   ]
  },
  {
   "cell_type": "markdown",
   "id": "726b92d0-12b6-4619-88bf-252866f3b47f",
   "metadata": {
    "id": "726b92d0-12b6-4619-88bf-252866f3b47f"
   },
   "source": [
    "### Can a single vector index answer questions across years?"
   ]
  },
  {
   "cell_type": "markdown",
   "id": "ba77907f-e529-4d8b-bc93-b2d0918a055b",
   "metadata": {
    "id": "ba77907f-e529-4d8b-bc93-b2d0918a055b"
   },
   "source": [
    "If we dump all documents to a single vector store, let's test its ability to answer questions across years! "
   ]
  },
  {
   "cell_type": "code",
   "execution_count": 14,
   "id": "9d50f219-6c57-499e-95b5-71d9228b6860",
   "metadata": {
    "id": "9d50f219-6c57-499e-95b5-71d9228b6860",
    "ExecuteTime": {
     "start_time": "2023-04-18T20:03:22.821340Z",
     "end_time": "2023-04-18T20:03:22.825672Z"
    }
   },
   "outputs": [
    {
     "data": {
      "text/plain": "<IPython.core.display.HTML object>",
      "text/html": "\n  <style>\n    pre {\n        white-space: pre-wrap;\n    }\n  </style>\n  "
     },
     "metadata": {},
     "output_type": "display_data"
    }
   ],
   "source": [
    "# # Option 2\n",
    "# risk_query_str = (\n",
    "#     \"Describe the current risk factors. If the year is provided in the information, \"\n",
    "#     \"provide that as well. If the context contains risk factors for multiple years, \"\n",
    "#     \"explicitly provide the following:\\n\"\n",
    "#     \"- A description of the risk factors for each year\\n\"\n",
    "#     \"- A summary of how these risk factors are changing across years\"\n",
    "# )"
   ]
  },
  {
   "cell_type": "code",
   "execution_count": 15,
   "id": "587bbf95-2cf8-4446-901f-1e96b51c2f4c",
   "metadata": {
    "id": "587bbf95-2cf8-4446-901f-1e96b51c2f4c",
    "colab": {
     "base_uri": "https://localhost:8080/",
     "height": 17
    },
    "outputId": "65f50768-3ca8-4e27-daef-a4c43df7dded",
    "ExecuteTime": {
     "start_time": "2023-04-18T20:03:22.827207Z",
     "end_time": "2023-04-18T20:03:22.859662Z"
    }
   },
   "outputs": [
    {
     "data": {
      "text/plain": "<IPython.core.display.HTML object>",
      "text/html": "\n  <style>\n    pre {\n        white-space: pre-wrap;\n    }\n  </style>\n  "
     },
     "metadata": {},
     "output_type": "display_data"
    }
   ],
   "source": [
    "# Option 1\n",
    "risk_query_str = \"What are some of the biggest risk factors in each year?\""
   ]
  },
  {
   "cell_type": "code",
   "execution_count": 16,
   "id": "ce493f83-167d-42d0-921d-f25c4d394fc0",
   "metadata": {
    "id": "ce493f83-167d-42d0-921d-f25c4d394fc0",
    "colab": {
     "base_uri": "https://localhost:8080/",
     "height": 17
    },
    "outputId": "ca366fb1-d858-4ac6-aaf0-b5f1ed7eff14",
    "ExecuteTime": {
     "start_time": "2023-04-18T20:03:22.831623Z",
     "end_time": "2023-04-18T20:03:49.874251Z"
    }
   },
   "outputs": [
    {
     "data": {
      "text/plain": "<IPython.core.display.HTML object>",
      "text/html": "\n  <style>\n    pre {\n        white-space: pre-wrap;\n    }\n  </style>\n  "
     },
     "metadata": {},
     "output_type": "display_data"
    },
    {
     "name": "stderr",
     "output_type": "stream",
     "text": [
      "INFO:llama_index.token_counter.token_counter:> [query] Total LLM token usage: 3022 tokens\n",
      "INFO:llama_index.token_counter.token_counter:> [query] Total embedding token usage: 12 tokens\n"
     ]
    }
   ],
   "source": [
    "response = global_index.query(risk_query_str, similarity_top_k=3)"
   ]
  },
  {
   "cell_type": "code",
   "execution_count": 17,
   "id": "d6f55ef5-9f70-4a81-8f8b-4c9b30d9670f",
   "metadata": {
    "id": "d6f55ef5-9f70-4a81-8f8b-4c9b30d9670f",
    "colab": {
     "base_uri": "https://localhost:8080/",
     "height": 178
    },
    "outputId": "f8be0c5a-5893-4e13-8fb0-43b47f0f440e",
    "ExecuteTime": {
     "start_time": "2023-04-18T20:03:49.877337Z",
     "end_time": "2023-04-18T20:03:49.883301Z"
    }
   },
   "outputs": [
    {
     "data": {
      "text/plain": "<IPython.core.display.HTML object>",
      "text/html": "\n  <style>\n    pre {\n        white-space: pre-wrap;\n    }\n  </style>\n  "
     },
     "metadata": {},
     "output_type": "display_data"
    },
    {
     "name": "stdout",
     "output_type": "stream",
     "text": [
      "\n",
      "\n",
      "Some of the biggest risk factors in 2020 include:\n",
      "\n",
      "1. Security breaches that could expose us to liability under various laws and regulations across jurisdictions and increase the risk of litigation and governmental investigation.\n",
      "\n",
      "2. Degrading services or sabotage systems that our security measures may not detect.\n",
      "\n",
      "3. Individuals able to circumvent our security measures may misappropriate confidential, proprietary, or personal information held by or on behalf of us, disrupt our operations, damage our computers, or otherwise damage our business.\n",
      "\n",
      "4. Potential failure to attract and retain Drivers and customers.\n",
      "\n",
      "5. Potential failure to maintain and expand our brand.\n",
      "\n",
      "6. Potential failure to protect our intellectual property.\n",
      "\n",
      "7. Potential failure to comply with applicable laws and regulations.\n",
      "\n",
      "8. Potential failure to manage our growth effectively.\n",
      "\n",
      "9. High competition in the mobility, delivery, and logistics industries, with competitors in nearly every major geographic region.\n",
      "\n",
      "10. Lowering of fares or service fees to remain competitive in certain markets, which we have in the past done and may continue to do.\n",
      "\n",
      "11. Unresolved Staff Comments.\n",
      "\n",
      "12. Potential failure to comply with applicable laws and regulations related to properties.\n",
      "\n",
      "13. Potential failure\n"
     ]
    }
   ],
   "source": [
    "print(str(response))"
   ]
  },
  {
   "cell_type": "markdown",
   "id": "007a99d7-4f63-44bf-957b-c9f5669bce28",
   "metadata": {
    "id": "007a99d7-4f63-44bf-957b-c9f5669bce28"
   },
   "source": [
    "### Composing a Graph to synthesize answers across 10-K filings (2019-2022)\n",
    "\n",
    "We want our queries to aggregate/synthesize information across *all* 10-K filings. To do this, we define a List index\n",
    "on top of the 4 vector indices."
   ]
  },
  {
   "cell_type": "code",
   "execution_count": 18,
   "id": "f3fb341a-19a3-4e4a-9369-7ddc46b8c2a6",
   "metadata": {
    "id": "f3fb341a-19a3-4e4a-9369-7ddc46b8c2a6",
    "ExecuteTime": {
     "start_time": "2023-04-18T20:03:49.883576Z",
     "end_time": "2023-04-18T20:03:49.890909Z"
    }
   },
   "outputs": [
    {
     "data": {
      "text/plain": "<IPython.core.display.HTML object>",
      "text/html": "\n  <style>\n    pre {\n        white-space: pre-wrap;\n    }\n  </style>\n  "
     },
     "metadata": {},
     "output_type": "display_data"
    }
   ],
   "source": [
    "from llama_index import GPTListIndex, LLMPredictor\n",
    "from langchain import OpenAI\n",
    "from llama_index.composability import ComposableGraph"
   ]
  },
  {
   "cell_type": "code",
   "execution_count": 19,
   "id": "966388cb-2fe4-4427-ad2e-cea6a0375233",
   "metadata": {
    "id": "966388cb-2fe4-4427-ad2e-cea6a0375233",
    "ExecuteTime": {
     "start_time": "2023-04-18T20:03:49.891459Z",
     "end_time": "2023-04-18T20:03:49.910752Z"
    }
   },
   "outputs": [
    {
     "data": {
      "text/plain": "<IPython.core.display.HTML object>",
      "text/html": "\n  <style>\n    pre {\n        white-space: pre-wrap;\n    }\n  </style>\n  "
     },
     "metadata": {},
     "output_type": "display_data"
    }
   ],
   "source": [
    "# set summary text for each doc\n",
    "summaries = {}\n",
    "for year in years:\n",
    "    summaries[year] = f'UBER 10-k Filing for {year} fiscal year'"
   ]
  },
  {
   "cell_type": "code",
   "execution_count": 20,
   "id": "f9e453b1-6782-45b5-8258-dfc386e6cf22",
   "metadata": {
    "id": "f9e453b1-6782-45b5-8258-dfc386e6cf22",
    "ExecuteTime": {
     "start_time": "2023-04-18T20:03:49.896425Z",
     "end_time": "2023-04-18T20:03:49.911119Z"
    }
   },
   "outputs": [
    {
     "data": {
      "text/plain": "<IPython.core.display.HTML object>",
      "text/html": "\n  <style>\n    pre {\n        white-space: pre-wrap;\n    }\n  </style>\n  "
     },
     "metadata": {},
     "output_type": "display_data"
    }
   ],
   "source": [
    "# set number of output tokens\n",
    "llm_predictor = LLMPredictor(llm=OpenAI(temperature=0, max_tokens=512))\n",
    "service_context = ServiceContext.from_defaults(llm_predictor=llm_predictor)"
   ]
  },
  {
   "cell_type": "code",
   "execution_count": 21,
   "id": "3b758fc2-bb21-46da-91b5-53e399eecfb0",
   "metadata": {
    "id": "3b758fc2-bb21-46da-91b5-53e399eecfb0",
    "outputId": "e7c99f46-8757-48a2-c84b-cb95a0a3eab9",
    "ExecuteTime": {
     "start_time": "2023-04-18T20:03:49.901373Z",
     "end_time": "2023-04-18T20:03:49.911316Z"
    }
   },
   "outputs": [
    {
     "data": {
      "text/plain": "<IPython.core.display.HTML object>",
      "text/html": "\n  <style>\n    pre {\n        white-space: pre-wrap;\n    }\n  </style>\n  "
     },
     "metadata": {},
     "output_type": "display_data"
    },
    {
     "name": "stderr",
     "output_type": "stream",
     "text": [
      "INFO:llama_index.token_counter.token_counter:> [build_index_from_nodes] Total LLM token usage: 0 tokens\n",
      "INFO:llama_index.token_counter.token_counter:> [build_index_from_nodes] Total embedding token usage: 0 tokens\n"
     ]
    }
   ],
   "source": [
    "graph = ComposableGraph.from_indices(\n",
    "    GPTListIndex,\n",
    "    [index_set[y] for y in years],\n",
    "    [summaries[y] for y in years],\n",
    "    service_context=service_context\n",
    ")"
   ]
  },
  {
   "cell_type": "code",
   "source": [
    "graph.save_to_disk(f'{indices_path}/10k_graph.json')"
   ],
   "metadata": {
    "id": "NLtnE--Mya7P",
    "ExecuteTime": {
     "start_time": "2023-04-18T20:03:49.907196Z",
     "end_time": "2023-04-18T20:04:05.600132Z"
    }
   },
   "id": "NLtnE--Mya7P",
   "execution_count": 22,
   "outputs": [
    {
     "data": {
      "text/plain": "<IPython.core.display.HTML object>",
      "text/html": "\n  <style>\n    pre {\n        white-space: pre-wrap;\n    }\n  </style>\n  "
     },
     "metadata": {},
     "output_type": "display_data"
    }
   ]
  },
  {
   "cell_type": "code",
   "execution_count": 23,
   "id": "b92a0ba3-5c6b-485f-8f8d-5e164689ff05",
   "metadata": {
    "id": "b92a0ba3-5c6b-485f-8f8d-5e164689ff05",
    "ExecuteTime": {
     "start_time": "2023-04-18T20:04:05.600646Z",
     "end_time": "2023-04-18T20:04:07.212757Z"
    }
   },
   "outputs": [
    {
     "data": {
      "text/plain": "<IPython.core.display.HTML object>",
      "text/html": "\n  <style>\n    pre {\n        white-space: pre-wrap;\n    }\n  </style>\n  "
     },
     "metadata": {},
     "output_type": "display_data"
    }
   ],
   "source": [
    "graph = ComposableGraph.load_from_disk(f'{indices_path}/10k_graph.json', service_context=service_context)"
   ]
  },
  {
   "cell_type": "markdown",
   "id": "b3eec694-d9c6-4400-9d8e-e707f2e7f41f",
   "metadata": {
    "id": "b3eec694-d9c6-4400-9d8e-e707f2e7f41f"
   },
   "source": [
    "### Setting Up the Query\n",
    "\n",
    "We query about the risk factors. We want to synthesize information across each year."
   ]
  },
  {
   "cell_type": "code",
   "execution_count": 24,
   "id": "937c08df-02bb-4a51-bd2c-63914c2b137f",
   "metadata": {
    "id": "937c08df-02bb-4a51-bd2c-63914c2b137f",
    "ExecuteTime": {
     "start_time": "2023-04-18T20:04:07.212995Z",
     "end_time": "2023-04-18T20:04:07.216583Z"
    }
   },
   "outputs": [
    {
     "data": {
      "text/plain": "<IPython.core.display.HTML object>",
      "text/html": "\n  <style>\n    pre {\n        white-space: pre-wrap;\n    }\n  </style>\n  "
     },
     "metadata": {},
     "output_type": "display_data"
    }
   ],
   "source": [
    "risk_query_str = (\n",
    "    \"Describe the current risk factors. If the year is provided in the information, \"\n",
    "    \"provide that as well. If the context contains risk factors for multiple years, \"\n",
    "    \"explicitly provide the following:\\n\"\n",
    "    \"- A description of the risk factors for each year\\n\"\n",
    "    \"- A summary of how these risk factors are changing across years\"\n",
    ")"
   ]
  },
  {
   "cell_type": "code",
   "execution_count": 25,
   "id": "82b43d58-5753-4035-9ea6-f8bfa860f89c",
   "metadata": {
    "id": "82b43d58-5753-4035-9ea6-f8bfa860f89c",
    "ExecuteTime": {
     "start_time": "2023-04-18T20:04:07.217030Z",
     "end_time": "2023-04-18T20:04:07.220567Z"
    }
   },
   "outputs": [
    {
     "data": {
      "text/plain": "<IPython.core.display.HTML object>",
      "text/html": "\n  <style>\n    pre {\n        white-space: pre-wrap;\n    }\n  </style>\n  "
     },
     "metadata": {},
     "output_type": "display_data"
    }
   ],
   "source": [
    "query_configs = [\n",
    "    {\n",
    "        \"index_struct_type\": \"dict\",\n",
    "        \"query_mode\": \"default\",\n",
    "        \"query_kwargs\": {\n",
    "            \"similarity_top_k\": 1,\n",
    "            # \"include_summary\": True\n",
    "        }\n",
    "    },\n",
    "    {\n",
    "        \"index_struct_type\": \"list\",\n",
    "        \"query_mode\": \"default\",\n",
    "        \"query_kwargs\": {\n",
    "            \"response_mode\": \"tree_summarize\",\n",
    "        }\n",
    "    },\n",
    "]"
   ]
  },
  {
   "cell_type": "code",
   "execution_count": 26,
   "id": "36125bfb-0e58-4afb-99dc-31d4069623c3",
   "metadata": {
    "id": "36125bfb-0e58-4afb-99dc-31d4069623c3",
    "ExecuteTime": {
     "start_time": "2023-04-18T20:04:07.221469Z",
     "end_time": "2023-04-18T20:04:32.394710Z"
    }
   },
   "outputs": [
    {
     "data": {
      "text/plain": "<IPython.core.display.HTML object>",
      "text/html": "\n  <style>\n    pre {\n        white-space: pre-wrap;\n    }\n  </style>\n  "
     },
     "metadata": {},
     "output_type": "display_data"
    }
   ],
   "source": [
    "response_summary = graph.query(risk_query_str, query_configs=query_configs)"
   ]
  },
  {
   "cell_type": "code",
   "execution_count": 27,
   "id": "e9e0b462-c113-40fb-bce2-11647b412264",
   "metadata": {
    "id": "e9e0b462-c113-40fb-bce2-11647b412264",
    "outputId": "c76695c5-a90c-4620-9e33-2f35f5d8cd3c",
    "ExecuteTime": {
     "start_time": "2023-04-18T20:04:32.377217Z",
     "end_time": "2023-04-18T20:04:32.395141Z"
    }
   },
   "outputs": [
    {
     "data": {
      "text/plain": "<IPython.core.display.HTML object>",
      "text/html": "\n  <style>\n    pre {\n        white-space: pre-wrap;\n    }\n  </style>\n  "
     },
     "metadata": {},
     "output_type": "display_data"
    },
    {
     "name": "stdout",
     "output_type": "stream",
     "text": [
      "\n",
      "The current risk factors for 2021 include the COVID-19 pandemic and the impact of actions to mitigate the pandemic, the potential for Drivers to be classified as employees, workers or quasi-employees instead of independent contractors, the highly competitive mobility, delivery, and logistics industries, and the need to lower fares or service fees and offer Driver incentives and consumer discounts and promotions in order to remain competitive in certain markets. \n",
      "\n",
      "The risk factors for 2020 are outlined in Item 1A of the context information. These risk factors include unresolved staff comments, properties, legal proceedings, and mine safety disclosures. \n",
      "\n",
      "The current risk factors as of December 31, 2019 include interest rate risk, investment risk, and foreign currency risk. Interest rate risk relates to the 2016 Term Loan Facility and 2018 Term Loan Facility, which are floating rate notes and are carried at amortized cost. Investment risk relates to cash and cash equivalents including restricted cash and cash equivalents, which totaled $8.2 billion and $12.1 billion as of December 31, 2018 and 2019, respectively. Marketable debt securities classified as short-term investments totaled $440 million as of December 31, 2019.\n",
      "\n",
      "Compared to prior years, the risk factors in 2021 have changed significantly due to the COVID-19 pandemic and the need to remain competitive in certain markets by lowering fares or service fees. The risk factors in 2020 and 2019 have remained relatively consistent.\n"
     ]
    }
   ],
   "source": [
    "print(response_summary)"
   ]
  },
  {
   "cell_type": "code",
   "execution_count": 28,
   "id": "0d5a88a2-9e52-4168-93bd-485261c19f41",
   "metadata": {
    "id": "0d5a88a2-9e52-4168-93bd-485261c19f41",
    "outputId": "9cc6c49f-2b3f-4d79-a271-f5d8b6d39edf",
    "ExecuteTime": {
     "start_time": "2023-04-18T20:04:32.384787Z",
     "end_time": "2023-04-18T20:04:32.395233Z"
    }
   },
   "outputs": [
    {
     "data": {
      "text/plain": "<IPython.core.display.HTML object>",
      "text/html": "\n  <style>\n    pre {\n        white-space: pre-wrap;\n    }\n  </style>\n  "
     },
     "metadata": {},
     "output_type": "display_data"
    },
    {
     "name": "stdout",
     "output_type": "stream",
     "text": [
      "> Source (Doc id: fab5c097-fc40-4134-b988-fe415572c79c): \n",
      "The current risk factors for 2022 include: Drivers being classified as employees, workers or qua...\n",
      "\n",
      "> Source (Doc id: c29c129c-9d93-4ef4-ab45-331dfbbafb56): \n",
      "The year provided in the context is 2021. The current risk factors include the COVID-19 pandemic...\n",
      "\n",
      "> Source (Doc id: 7eaa9915-ec03-4ca9-a662-1c6cb93100d7): \n",
      "The risk factors for 2020 are outlined in Item 1A of the context information. These risk factors...\n",
      "\n",
      "> Source (Doc id: bf6e8524-dd71-4a85-b0a0-1b03b7c1a51e): \n",
      "The current risk factors as of December 31, 2019 include interest rate risk, investment risk, an...\n",
      "\n",
      "> Source (Doc id: a6a1f65d-ae31-4a9e-84ab-2a5e4560d49e): year: 2022\n",
      "\n",
      "and certain events we participate in or host with members of the investment community...\n",
      "\n",
      "> Source (Doc id: bfbd1130-2943-4363-9163-144d02f6b052): year: 2021\n",
      "\n",
      "into this report or in any other report or document we file.\n",
      "\n",
      "ITEM 1A. RISK FACTORS\n",
      "\n",
      "...\n",
      "\n",
      "> Source (Doc id: a1f8fc17-fb73-4f24-871b-6bfb26c0bd02): year: 2020\n",
      "\n",
      "1A.\n",
      "\n",
      "Risk Factors\n",
      "\n",
      "11\n",
      "\n",
      "Item 1B.\n",
      "\n",
      "Unresolved Staff Comments\n",
      "\n",
      "46\n",
      "\n",
      "Item 2.\n",
      "\n",
      "Properties\n",
      "\n",
      "...\n",
      "\n",
      "> Source (Doc id: eddf613d-22e3-4db7-a231-f854bb5989eb): year: 2019\n",
      "\n",
      "Pronouncements\n",
      "\n",
      "See\n",
      "\n",
      "Note 1 - Description of Business and Summary of Significant Acco...\n"
     ]
    }
   ],
   "source": [
    "print(response_summary.get_formatted_sources())"
   ]
  },
  {
   "cell_type": "code",
   "execution_count": 29,
   "id": "92756a0f-dfc0-4561-8217-31c310f5ab24",
   "metadata": {
    "id": "92756a0f-dfc0-4561-8217-31c310f5ab24",
    "outputId": "660dac63-5a11-4aea-fb85-0132fe8784bd",
    "ExecuteTime": {
     "start_time": "2023-04-18T20:04:32.388878Z",
     "end_time": "2023-04-18T20:04:38.641659Z"
    }
   },
   "outputs": [
    {
     "data": {
      "text/plain": "<IPython.core.display.HTML object>",
      "text/html": "\n  <style>\n    pre {\n        white-space: pre-wrap;\n    }\n  </style>\n  "
     },
     "metadata": {},
     "output_type": "display_data"
    },
    {
     "name": "stderr",
     "output_type": "stream",
     "text": [
      "INFO:llama_index.token_counter.token_counter:> [query] Total LLM token usage: 932 tokens\n",
      "INFO:llama_index.token_counter.token_counter:> [query] Total embedding token usage: 60 tokens\n"
     ]
    }
   ],
   "source": [
    "# query a specific year\n",
    "response_tmp = index_set[2022].query(risk_query_str)"
   ]
  },
  {
   "cell_type": "code",
   "execution_count": 30,
   "id": "5d768882-6c0e-45bd-a712-c8aa4591e209",
   "metadata": {
    "id": "5d768882-6c0e-45bd-a712-c8aa4591e209",
    "outputId": "b07b421a-bd1c-4907-974f-9919584e3cef",
    "ExecuteTime": {
     "start_time": "2023-04-18T20:04:38.639444Z",
     "end_time": "2023-04-18T20:04:38.666648Z"
    }
   },
   "outputs": [
    {
     "data": {
      "text/plain": "<IPython.core.display.HTML object>",
      "text/html": "\n  <style>\n    pre {\n        white-space: pre-wrap;\n    }\n  </style>\n  "
     },
     "metadata": {},
     "output_type": "display_data"
    },
    {
     "data": {
      "text/plain": "'\\nThe current risk factors for 2022 include: Drivers being classified as employees, workers or quasi-employees instead of independent contractors; the mobility, delivery, and logistics industries being highly competitive with well-established and low-cost alternatives in nearly every major geographic region; and the need to remain competitive in certain markets by lowering fares or service fees, which we have in the past done and may continue to do in the future. These risk factors have remained consistent over the years.'"
     },
     "execution_count": 30,
     "metadata": {},
     "output_type": "execute_result"
    }
   ],
   "source": [
    "str(response_tmp)"
   ]
  },
  {
   "cell_type": "code",
   "execution_count": 31,
   "id": "e630e527-0b59-41ef-ad32-327136ffbbac",
   "metadata": {
    "id": "e630e527-0b59-41ef-ad32-327136ffbbac",
    "outputId": "c5bfaaa8-c042-4eab-daaa-e4555e150af9",
    "ExecuteTime": {
     "start_time": "2023-04-18T20:04:38.649847Z",
     "end_time": "2023-04-18T20:05:21.835860Z"
    }
   },
   "outputs": [
    {
     "data": {
      "text/plain": "<IPython.core.display.HTML object>",
      "text/html": "\n  <style>\n    pre {\n        white-space: pre-wrap;\n    }\n  </style>\n  "
     },
     "metadata": {},
     "output_type": "display_data"
    },
    {
     "name": "stderr",
     "output_type": "stream",
     "text": [
      "INFO:llama_index.token_counter.token_counter:> [query] Total LLM token usage: 5001 tokens\n",
      "INFO:llama_index.token_counter.token_counter:> [query] Total embedding token usage: 60 tokens\n"
     ]
    }
   ],
   "source": [
    "# query a global index\n",
    "response = global_index.query(risk_query_str, similarity_top_k=4)"
   ]
  },
  {
   "cell_type": "code",
   "execution_count": 32,
   "id": "c48a272c-8e87-4740-9960-129d7d5943bb",
   "metadata": {
    "id": "c48a272c-8e87-4740-9960-129d7d5943bb",
    "outputId": "02adc809-1bfa-4958-e59a-80903c00e94c",
    "ExecuteTime": {
     "start_time": "2023-04-18T20:05:21.835145Z",
     "end_time": "2023-04-18T20:05:21.870840Z"
    }
   },
   "outputs": [
    {
     "data": {
      "text/plain": "<IPython.core.display.HTML object>",
      "text/html": "\n  <style>\n    pre {\n        white-space: pre-wrap;\n    }\n  </style>\n  "
     },
     "metadata": {},
     "output_type": "display_data"
    },
    {
     "data": {
      "text/plain": "'\\n\\nThe risk factors for 2020 are outlined in Item 1A of the context information. These risk factors include unresolved staff comments, properties, legal proceedings, mine safety disclosures, and certain events we participate in or host with members of the investment community on our investor relations website. Additionally, we provide notifications of news or announcements regarding our financial performance, including SEC filings, investor events, press and earnings releases, as part of our investor relations website. The contents of these websites are not intended to be incorporated by reference into this report or in any other report or document we file. \\n\\nFor 2021, the risk factors outlined in Item 1A include the potential for Drivers to be classified as employees, workers or quasi-employees instead of independent contractors, as well as the highly competitive nature of the mobility, delivery, and logistics industries with well-established and low-cost alternatives that have been available for decades, low barriers to entry, low switching costs, and well-capitalized competitors in nearly every major geographic region. Additionally, to remain competitive in certain markets, we have in the past offered, and may continue to offer, significant Driver incentives and consumer discounts and promotions. We have incurred significant losses since inception, including in the United States and other major markets. We expect'"
     },
     "execution_count": 32,
     "metadata": {},
     "output_type": "execute_result"
    }
   ],
   "source": [
    "str(response)"
   ]
  }
 ],
 "metadata": {
  "kernelspec": {
   "name": "python3",
   "language": "python",
   "display_name": "Python 3 (ipykernel)"
  },
  "language_info": {
   "codemirror_mode": {
    "name": "ipython",
    "version": 3
   },
   "file_extension": ".py",
   "mimetype": "text/x-python",
   "name": "python",
   "nbconvert_exporter": "python",
   "pygments_lexer": "ipython3",
   "version": "3.9.16"
  },
  "colab": {
   "provenance": []
  },
  "widgets": {
   "application/vnd.jupyter.widget-state+json": {
    "a292f2af029c4340813e63370bf73f12": {
     "model_module": "@jupyter-widgets/controls",
     "model_name": "HBoxModel",
     "model_module_version": "1.5.0",
     "state": {
      "_dom_classes": [],
      "_model_module": "@jupyter-widgets/controls",
      "_model_module_version": "1.5.0",
      "_model_name": "HBoxModel",
      "_view_count": null,
      "_view_module": "@jupyter-widgets/controls",
      "_view_module_version": "1.5.0",
      "_view_name": "HBoxView",
      "box_style": "",
      "children": [
       "IPY_MODEL_755797e4682642399c367962ba737504",
       "IPY_MODEL_548c125bc716475ba6708fa80f5b1b61",
       "IPY_MODEL_37cf19bcc68d41d7bc6b411cd273a88c"
      ],
      "layout": "IPY_MODEL_ebc4716ea8d849c58c43c26f5caf18fe"
     }
    },
    "755797e4682642399c367962ba737504": {
     "model_module": "@jupyter-widgets/controls",
     "model_name": "HTMLModel",
     "model_module_version": "1.5.0",
     "state": {
      "_dom_classes": [],
      "_model_module": "@jupyter-widgets/controls",
      "_model_module_version": "1.5.0",
      "_model_name": "HTMLModel",
      "_view_count": null,
      "_view_module": "@jupyter-widgets/controls",
      "_view_module_version": "1.5.0",
      "_view_name": "HTMLView",
      "description": "",
      "description_tooltip": null,
      "layout": "IPY_MODEL_eb486eb0dc2f44eabcac46a18b711ff1",
      "placeholder": "​",
      "style": "IPY_MODEL_3e45628539864cd2b1297c2be1d35c98",
      "value": "Downloading (…)olve/main/vocab.json: 100%"
     }
    },
    "548c125bc716475ba6708fa80f5b1b61": {
     "model_module": "@jupyter-widgets/controls",
     "model_name": "FloatProgressModel",
     "model_module_version": "1.5.0",
     "state": {
      "_dom_classes": [],
      "_model_module": "@jupyter-widgets/controls",
      "_model_module_version": "1.5.0",
      "_model_name": "FloatProgressModel",
      "_view_count": null,
      "_view_module": "@jupyter-widgets/controls",
      "_view_module_version": "1.5.0",
      "_view_name": "ProgressView",
      "bar_style": "success",
      "description": "",
      "description_tooltip": null,
      "layout": "IPY_MODEL_387d0ca6bf2c4341804cfa43a71b6451",
      "max": 1042301,
      "min": 0,
      "orientation": "horizontal",
      "style": "IPY_MODEL_b1c406aebffa49f48c3457a9482a47a3",
      "value": 1042301
     }
    },
    "37cf19bcc68d41d7bc6b411cd273a88c": {
     "model_module": "@jupyter-widgets/controls",
     "model_name": "HTMLModel",
     "model_module_version": "1.5.0",
     "state": {
      "_dom_classes": [],
      "_model_module": "@jupyter-widgets/controls",
      "_model_module_version": "1.5.0",
      "_model_name": "HTMLModel",
      "_view_count": null,
      "_view_module": "@jupyter-widgets/controls",
      "_view_module_version": "1.5.0",
      "_view_name": "HTMLView",
      "description": "",
      "description_tooltip": null,
      "layout": "IPY_MODEL_8e1f2102db184538a35ed9c8498d5bbc",
      "placeholder": "​",
      "style": "IPY_MODEL_0cccb700fc264051abc0b7458716054f",
      "value": " 1.04M/1.04M [00:00&lt;00:00, 3.35MB/s]"
     }
    },
    "ebc4716ea8d849c58c43c26f5caf18fe": {
     "model_module": "@jupyter-widgets/base",
     "model_name": "LayoutModel",
     "model_module_version": "1.2.0",
     "state": {
      "_model_module": "@jupyter-widgets/base",
      "_model_module_version": "1.2.0",
      "_model_name": "LayoutModel",
      "_view_count": null,
      "_view_module": "@jupyter-widgets/base",
      "_view_module_version": "1.2.0",
      "_view_name": "LayoutView",
      "align_content": null,
      "align_items": null,
      "align_self": null,
      "border": null,
      "bottom": null,
      "display": null,
      "flex": null,
      "flex_flow": null,
      "grid_area": null,
      "grid_auto_columns": null,
      "grid_auto_flow": null,
      "grid_auto_rows": null,
      "grid_column": null,
      "grid_gap": null,
      "grid_row": null,
      "grid_template_areas": null,
      "grid_template_columns": null,
      "grid_template_rows": null,
      "height": null,
      "justify_content": null,
      "justify_items": null,
      "left": null,
      "margin": null,
      "max_height": null,
      "max_width": null,
      "min_height": null,
      "min_width": null,
      "object_fit": null,
      "object_position": null,
      "order": null,
      "overflow": null,
      "overflow_x": null,
      "overflow_y": null,
      "padding": null,
      "right": null,
      "top": null,
      "visibility": null,
      "width": null
     }
    },
    "eb486eb0dc2f44eabcac46a18b711ff1": {
     "model_module": "@jupyter-widgets/base",
     "model_name": "LayoutModel",
     "model_module_version": "1.2.0",
     "state": {
      "_model_module": "@jupyter-widgets/base",
      "_model_module_version": "1.2.0",
      "_model_name": "LayoutModel",
      "_view_count": null,
      "_view_module": "@jupyter-widgets/base",
      "_view_module_version": "1.2.0",
      "_view_name": "LayoutView",
      "align_content": null,
      "align_items": null,
      "align_self": null,
      "border": null,
      "bottom": null,
      "display": null,
      "flex": null,
      "flex_flow": null,
      "grid_area": null,
      "grid_auto_columns": null,
      "grid_auto_flow": null,
      "grid_auto_rows": null,
      "grid_column": null,
      "grid_gap": null,
      "grid_row": null,
      "grid_template_areas": null,
      "grid_template_columns": null,
      "grid_template_rows": null,
      "height": null,
      "justify_content": null,
      "justify_items": null,
      "left": null,
      "margin": null,
      "max_height": null,
      "max_width": null,
      "min_height": null,
      "min_width": null,
      "object_fit": null,
      "object_position": null,
      "order": null,
      "overflow": null,
      "overflow_x": null,
      "overflow_y": null,
      "padding": null,
      "right": null,
      "top": null,
      "visibility": null,
      "width": null
     }
    },
    "3e45628539864cd2b1297c2be1d35c98": {
     "model_module": "@jupyter-widgets/controls",
     "model_name": "DescriptionStyleModel",
     "model_module_version": "1.5.0",
     "state": {
      "_model_module": "@jupyter-widgets/controls",
      "_model_module_version": "1.5.0",
      "_model_name": "DescriptionStyleModel",
      "_view_count": null,
      "_view_module": "@jupyter-widgets/base",
      "_view_module_version": "1.2.0",
      "_view_name": "StyleView",
      "description_width": ""
     }
    },
    "387d0ca6bf2c4341804cfa43a71b6451": {
     "model_module": "@jupyter-widgets/base",
     "model_name": "LayoutModel",
     "model_module_version": "1.2.0",
     "state": {
      "_model_module": "@jupyter-widgets/base",
      "_model_module_version": "1.2.0",
      "_model_name": "LayoutModel",
      "_view_count": null,
      "_view_module": "@jupyter-widgets/base",
      "_view_module_version": "1.2.0",
      "_view_name": "LayoutView",
      "align_content": null,
      "align_items": null,
      "align_self": null,
      "border": null,
      "bottom": null,
      "display": null,
      "flex": null,
      "flex_flow": null,
      "grid_area": null,
      "grid_auto_columns": null,
      "grid_auto_flow": null,
      "grid_auto_rows": null,
      "grid_column": null,
      "grid_gap": null,
      "grid_row": null,
      "grid_template_areas": null,
      "grid_template_columns": null,
      "grid_template_rows": null,
      "height": null,
      "justify_content": null,
      "justify_items": null,
      "left": null,
      "margin": null,
      "max_height": null,
      "max_width": null,
      "min_height": null,
      "min_width": null,
      "object_fit": null,
      "object_position": null,
      "order": null,
      "overflow": null,
      "overflow_x": null,
      "overflow_y": null,
      "padding": null,
      "right": null,
      "top": null,
      "visibility": null,
      "width": null
     }
    },
    "b1c406aebffa49f48c3457a9482a47a3": {
     "model_module": "@jupyter-widgets/controls",
     "model_name": "ProgressStyleModel",
     "model_module_version": "1.5.0",
     "state": {
      "_model_module": "@jupyter-widgets/controls",
      "_model_module_version": "1.5.0",
      "_model_name": "ProgressStyleModel",
      "_view_count": null,
      "_view_module": "@jupyter-widgets/base",
      "_view_module_version": "1.2.0",
      "_view_name": "StyleView",
      "bar_color": null,
      "description_width": ""
     }
    },
    "8e1f2102db184538a35ed9c8498d5bbc": {
     "model_module": "@jupyter-widgets/base",
     "model_name": "LayoutModel",
     "model_module_version": "1.2.0",
     "state": {
      "_model_module": "@jupyter-widgets/base",
      "_model_module_version": "1.2.0",
      "_model_name": "LayoutModel",
      "_view_count": null,
      "_view_module": "@jupyter-widgets/base",
      "_view_module_version": "1.2.0",
      "_view_name": "LayoutView",
      "align_content": null,
      "align_items": null,
      "align_self": null,
      "border": null,
      "bottom": null,
      "display": null,
      "flex": null,
      "flex_flow": null,
      "grid_area": null,
      "grid_auto_columns": null,
      "grid_auto_flow": null,
      "grid_auto_rows": null,
      "grid_column": null,
      "grid_gap": null,
      "grid_row": null,
      "grid_template_areas": null,
      "grid_template_columns": null,
      "grid_template_rows": null,
      "height": null,
      "justify_content": null,
      "justify_items": null,
      "left": null,
      "margin": null,
      "max_height": null,
      "max_width": null,
      "min_height": null,
      "min_width": null,
      "object_fit": null,
      "object_position": null,
      "order": null,
      "overflow": null,
      "overflow_x": null,
      "overflow_y": null,
      "padding": null,
      "right": null,
      "top": null,
      "visibility": null,
      "width": null
     }
    },
    "0cccb700fc264051abc0b7458716054f": {
     "model_module": "@jupyter-widgets/controls",
     "model_name": "DescriptionStyleModel",
     "model_module_version": "1.5.0",
     "state": {
      "_model_module": "@jupyter-widgets/controls",
      "_model_module_version": "1.5.0",
      "_model_name": "DescriptionStyleModel",
      "_view_count": null,
      "_view_module": "@jupyter-widgets/base",
      "_view_module_version": "1.2.0",
      "_view_name": "StyleView",
      "description_width": ""
     }
    },
    "1a259e1a45bc4043b81243d033b79752": {
     "model_module": "@jupyter-widgets/controls",
     "model_name": "HBoxModel",
     "model_module_version": "1.5.0",
     "state": {
      "_dom_classes": [],
      "_model_module": "@jupyter-widgets/controls",
      "_model_module_version": "1.5.0",
      "_model_name": "HBoxModel",
      "_view_count": null,
      "_view_module": "@jupyter-widgets/controls",
      "_view_module_version": "1.5.0",
      "_view_name": "HBoxView",
      "box_style": "",
      "children": [
       "IPY_MODEL_f0963a05a29d4e6f8a2ab48fc8a26a1d",
       "IPY_MODEL_0a8d7bc06ed646b78956101c5c62fb1f",
       "IPY_MODEL_ef339a504f984cc2ac07c8252aa2f6d5"
      ],
      "layout": "IPY_MODEL_3d3c2d54cdf44a06a99c35d0e1b33b0a"
     }
    },
    "f0963a05a29d4e6f8a2ab48fc8a26a1d": {
     "model_module": "@jupyter-widgets/controls",
     "model_name": "HTMLModel",
     "model_module_version": "1.5.0",
     "state": {
      "_dom_classes": [],
      "_model_module": "@jupyter-widgets/controls",
      "_model_module_version": "1.5.0",
      "_model_name": "HTMLModel",
      "_view_count": null,
      "_view_module": "@jupyter-widgets/controls",
      "_view_module_version": "1.5.0",
      "_view_name": "HTMLView",
      "description": "",
      "description_tooltip": null,
      "layout": "IPY_MODEL_7e96275c58434a04a49e56598b12656a",
      "placeholder": "​",
      "style": "IPY_MODEL_b2653a474569425ebb546f93241a465e",
      "value": "Downloading (…)olve/main/merges.txt: 100%"
     }
    },
    "0a8d7bc06ed646b78956101c5c62fb1f": {
     "model_module": "@jupyter-widgets/controls",
     "model_name": "FloatProgressModel",
     "model_module_version": "1.5.0",
     "state": {
      "_dom_classes": [],
      "_model_module": "@jupyter-widgets/controls",
      "_model_module_version": "1.5.0",
      "_model_name": "FloatProgressModel",
      "_view_count": null,
      "_view_module": "@jupyter-widgets/controls",
      "_view_module_version": "1.5.0",
      "_view_name": "ProgressView",
      "bar_style": "success",
      "description": "",
      "description_tooltip": null,
      "layout": "IPY_MODEL_112ef61e952444369d6c0dce1d1098a8",
      "max": 456318,
      "min": 0,
      "orientation": "horizontal",
      "style": "IPY_MODEL_afe741aff3f54ae6a89b5965888599f4",
      "value": 456318
     }
    },
    "ef339a504f984cc2ac07c8252aa2f6d5": {
     "model_module": "@jupyter-widgets/controls",
     "model_name": "HTMLModel",
     "model_module_version": "1.5.0",
     "state": {
      "_dom_classes": [],
      "_model_module": "@jupyter-widgets/controls",
      "_model_module_version": "1.5.0",
      "_model_name": "HTMLModel",
      "_view_count": null,
      "_view_module": "@jupyter-widgets/controls",
      "_view_module_version": "1.5.0",
      "_view_name": "HTMLView",
      "description": "",
      "description_tooltip": null,
      "layout": "IPY_MODEL_a8bae11fb1aa40348e611a1592e0ff0a",
      "placeholder": "​",
      "style": "IPY_MODEL_9bf6e3e259cd4bc0bd4c714c725d0782",
      "value": " 456k/456k [00:00&lt;00:00, 1.84MB/s]"
     }
    },
    "3d3c2d54cdf44a06a99c35d0e1b33b0a": {
     "model_module": "@jupyter-widgets/base",
     "model_name": "LayoutModel",
     "model_module_version": "1.2.0",
     "state": {
      "_model_module": "@jupyter-widgets/base",
      "_model_module_version": "1.2.0",
      "_model_name": "LayoutModel",
      "_view_count": null,
      "_view_module": "@jupyter-widgets/base",
      "_view_module_version": "1.2.0",
      "_view_name": "LayoutView",
      "align_content": null,
      "align_items": null,
      "align_self": null,
      "border": null,
      "bottom": null,
      "display": null,
      "flex": null,
      "flex_flow": null,
      "grid_area": null,
      "grid_auto_columns": null,
      "grid_auto_flow": null,
      "grid_auto_rows": null,
      "grid_column": null,
      "grid_gap": null,
      "grid_row": null,
      "grid_template_areas": null,
      "grid_template_columns": null,
      "grid_template_rows": null,
      "height": null,
      "justify_content": null,
      "justify_items": null,
      "left": null,
      "margin": null,
      "max_height": null,
      "max_width": null,
      "min_height": null,
      "min_width": null,
      "object_fit": null,
      "object_position": null,
      "order": null,
      "overflow": null,
      "overflow_x": null,
      "overflow_y": null,
      "padding": null,
      "right": null,
      "top": null,
      "visibility": null,
      "width": null
     }
    },
    "7e96275c58434a04a49e56598b12656a": {
     "model_module": "@jupyter-widgets/base",
     "model_name": "LayoutModel",
     "model_module_version": "1.2.0",
     "state": {
      "_model_module": "@jupyter-widgets/base",
      "_model_module_version": "1.2.0",
      "_model_name": "LayoutModel",
      "_view_count": null,
      "_view_module": "@jupyter-widgets/base",
      "_view_module_version": "1.2.0",
      "_view_name": "LayoutView",
      "align_content": null,
      "align_items": null,
      "align_self": null,
      "border": null,
      "bottom": null,
      "display": null,
      "flex": null,
      "flex_flow": null,
      "grid_area": null,
      "grid_auto_columns": null,
      "grid_auto_flow": null,
      "grid_auto_rows": null,
      "grid_column": null,
      "grid_gap": null,
      "grid_row": null,
      "grid_template_areas": null,
      "grid_template_columns": null,
      "grid_template_rows": null,
      "height": null,
      "justify_content": null,
      "justify_items": null,
      "left": null,
      "margin": null,
      "max_height": null,
      "max_width": null,
      "min_height": null,
      "min_width": null,
      "object_fit": null,
      "object_position": null,
      "order": null,
      "overflow": null,
      "overflow_x": null,
      "overflow_y": null,
      "padding": null,
      "right": null,
      "top": null,
      "visibility": null,
      "width": null
     }
    },
    "b2653a474569425ebb546f93241a465e": {
     "model_module": "@jupyter-widgets/controls",
     "model_name": "DescriptionStyleModel",
     "model_module_version": "1.5.0",
     "state": {
      "_model_module": "@jupyter-widgets/controls",
      "_model_module_version": "1.5.0",
      "_model_name": "DescriptionStyleModel",
      "_view_count": null,
      "_view_module": "@jupyter-widgets/base",
      "_view_module_version": "1.2.0",
      "_view_name": "StyleView",
      "description_width": ""
     }
    },
    "112ef61e952444369d6c0dce1d1098a8": {
     "model_module": "@jupyter-widgets/base",
     "model_name": "LayoutModel",
     "model_module_version": "1.2.0",
     "state": {
      "_model_module": "@jupyter-widgets/base",
      "_model_module_version": "1.2.0",
      "_model_name": "LayoutModel",
      "_view_count": null,
      "_view_module": "@jupyter-widgets/base",
      "_view_module_version": "1.2.0",
      "_view_name": "LayoutView",
      "align_content": null,
      "align_items": null,
      "align_self": null,
      "border": null,
      "bottom": null,
      "display": null,
      "flex": null,
      "flex_flow": null,
      "grid_area": null,
      "grid_auto_columns": null,
      "grid_auto_flow": null,
      "grid_auto_rows": null,
      "grid_column": null,
      "grid_gap": null,
      "grid_row": null,
      "grid_template_areas": null,
      "grid_template_columns": null,
      "grid_template_rows": null,
      "height": null,
      "justify_content": null,
      "justify_items": null,
      "left": null,
      "margin": null,
      "max_height": null,
      "max_width": null,
      "min_height": null,
      "min_width": null,
      "object_fit": null,
      "object_position": null,
      "order": null,
      "overflow": null,
      "overflow_x": null,
      "overflow_y": null,
      "padding": null,
      "right": null,
      "top": null,
      "visibility": null,
      "width": null
     }
    },
    "afe741aff3f54ae6a89b5965888599f4": {
     "model_module": "@jupyter-widgets/controls",
     "model_name": "ProgressStyleModel",
     "model_module_version": "1.5.0",
     "state": {
      "_model_module": "@jupyter-widgets/controls",
      "_model_module_version": "1.5.0",
      "_model_name": "ProgressStyleModel",
      "_view_count": null,
      "_view_module": "@jupyter-widgets/base",
      "_view_module_version": "1.2.0",
      "_view_name": "StyleView",
      "bar_color": null,
      "description_width": ""
     }
    },
    "a8bae11fb1aa40348e611a1592e0ff0a": {
     "model_module": "@jupyter-widgets/base",
     "model_name": "LayoutModel",
     "model_module_version": "1.2.0",
     "state": {
      "_model_module": "@jupyter-widgets/base",
      "_model_module_version": "1.2.0",
      "_model_name": "LayoutModel",
      "_view_count": null,
      "_view_module": "@jupyter-widgets/base",
      "_view_module_version": "1.2.0",
      "_view_name": "LayoutView",
      "align_content": null,
      "align_items": null,
      "align_self": null,
      "border": null,
      "bottom": null,
      "display": null,
      "flex": null,
      "flex_flow": null,
      "grid_area": null,
      "grid_auto_columns": null,
      "grid_auto_flow": null,
      "grid_auto_rows": null,
      "grid_column": null,
      "grid_gap": null,
      "grid_row": null,
      "grid_template_areas": null,
      "grid_template_columns": null,
      "grid_template_rows": null,
      "height": null,
      "justify_content": null,
      "justify_items": null,
      "left": null,
      "margin": null,
      "max_height": null,
      "max_width": null,
      "min_height": null,
      "min_width": null,
      "object_fit": null,
      "object_position": null,
      "order": null,
      "overflow": null,
      "overflow_x": null,
      "overflow_y": null,
      "padding": null,
      "right": null,
      "top": null,
      "visibility": null,
      "width": null
     }
    },
    "9bf6e3e259cd4bc0bd4c714c725d0782": {
     "model_module": "@jupyter-widgets/controls",
     "model_name": "DescriptionStyleModel",
     "model_module_version": "1.5.0",
     "state": {
      "_model_module": "@jupyter-widgets/controls",
      "_model_module_version": "1.5.0",
      "_model_name": "DescriptionStyleModel",
      "_view_count": null,
      "_view_module": "@jupyter-widgets/base",
      "_view_module_version": "1.2.0",
      "_view_name": "StyleView",
      "description_width": ""
     }
    },
    "0cd2bf060b4c4daeaf9156705ae409ab": {
     "model_module": "@jupyter-widgets/controls",
     "model_name": "HBoxModel",
     "model_module_version": "1.5.0",
     "state": {
      "_dom_classes": [],
      "_model_module": "@jupyter-widgets/controls",
      "_model_module_version": "1.5.0",
      "_model_name": "HBoxModel",
      "_view_count": null,
      "_view_module": "@jupyter-widgets/controls",
      "_view_module_version": "1.5.0",
      "_view_name": "HBoxView",
      "box_style": "",
      "children": [
       "IPY_MODEL_3c4ce2ec8ae54042864d1d0261355166",
       "IPY_MODEL_2e27352e29354001b53bc4d07bd4c1ed",
       "IPY_MODEL_709f853d0ae846e7945c74ff83cae52e"
      ],
      "layout": "IPY_MODEL_54a3bafa2af54475abe57e37e2399a45"
     }
    },
    "3c4ce2ec8ae54042864d1d0261355166": {
     "model_module": "@jupyter-widgets/controls",
     "model_name": "HTMLModel",
     "model_module_version": "1.5.0",
     "state": {
      "_dom_classes": [],
      "_model_module": "@jupyter-widgets/controls",
      "_model_module_version": "1.5.0",
      "_model_name": "HTMLModel",
      "_view_count": null,
      "_view_module": "@jupyter-widgets/controls",
      "_view_module_version": "1.5.0",
      "_view_name": "HTMLView",
      "description": "",
      "description_tooltip": null,
      "layout": "IPY_MODEL_94343417f60a4f9d9a745dfa2c967893",
      "placeholder": "​",
      "style": "IPY_MODEL_f6331afe201d49319b76e528e01a9b4b",
      "value": "Downloading (…)/main/tokenizer.json: 100%"
     }
    },
    "2e27352e29354001b53bc4d07bd4c1ed": {
     "model_module": "@jupyter-widgets/controls",
     "model_name": "FloatProgressModel",
     "model_module_version": "1.5.0",
     "state": {
      "_dom_classes": [],
      "_model_module": "@jupyter-widgets/controls",
      "_model_module_version": "1.5.0",
      "_model_name": "FloatProgressModel",
      "_view_count": null,
      "_view_module": "@jupyter-widgets/controls",
      "_view_module_version": "1.5.0",
      "_view_name": "ProgressView",
      "bar_style": "success",
      "description": "",
      "description_tooltip": null,
      "layout": "IPY_MODEL_792a299872704c10af8061175db96031",
      "max": 1355256,
      "min": 0,
      "orientation": "horizontal",
      "style": "IPY_MODEL_2d7895836c814084be531103d0218650",
      "value": 1355256
     }
    },
    "709f853d0ae846e7945c74ff83cae52e": {
     "model_module": "@jupyter-widgets/controls",
     "model_name": "HTMLModel",
     "model_module_version": "1.5.0",
     "state": {
      "_dom_classes": [],
      "_model_module": "@jupyter-widgets/controls",
      "_model_module_version": "1.5.0",
      "_model_name": "HTMLModel",
      "_view_count": null,
      "_view_module": "@jupyter-widgets/controls",
      "_view_module_version": "1.5.0",
      "_view_name": "HTMLView",
      "description": "",
      "description_tooltip": null,
      "layout": "IPY_MODEL_10420e2dba3244f48c8fcd7d35904e41",
      "placeholder": "​",
      "style": "IPY_MODEL_d7b1b50d3f6843be90e00d3352139b2f",
      "value": " 1.36M/1.36M [00:00&lt;00:00, 3.65MB/s]"
     }
    },
    "54a3bafa2af54475abe57e37e2399a45": {
     "model_module": "@jupyter-widgets/base",
     "model_name": "LayoutModel",
     "model_module_version": "1.2.0",
     "state": {
      "_model_module": "@jupyter-widgets/base",
      "_model_module_version": "1.2.0",
      "_model_name": "LayoutModel",
      "_view_count": null,
      "_view_module": "@jupyter-widgets/base",
      "_view_module_version": "1.2.0",
      "_view_name": "LayoutView",
      "align_content": null,
      "align_items": null,
      "align_self": null,
      "border": null,
      "bottom": null,
      "display": null,
      "flex": null,
      "flex_flow": null,
      "grid_area": null,
      "grid_auto_columns": null,
      "grid_auto_flow": null,
      "grid_auto_rows": null,
      "grid_column": null,
      "grid_gap": null,
      "grid_row": null,
      "grid_template_areas": null,
      "grid_template_columns": null,
      "grid_template_rows": null,
      "height": null,
      "justify_content": null,
      "justify_items": null,
      "left": null,
      "margin": null,
      "max_height": null,
      "max_width": null,
      "min_height": null,
      "min_width": null,
      "object_fit": null,
      "object_position": null,
      "order": null,
      "overflow": null,
      "overflow_x": null,
      "overflow_y": null,
      "padding": null,
      "right": null,
      "top": null,
      "visibility": null,
      "width": null
     }
    },
    "94343417f60a4f9d9a745dfa2c967893": {
     "model_module": "@jupyter-widgets/base",
     "model_name": "LayoutModel",
     "model_module_version": "1.2.0",
     "state": {
      "_model_module": "@jupyter-widgets/base",
      "_model_module_version": "1.2.0",
      "_model_name": "LayoutModel",
      "_view_count": null,
      "_view_module": "@jupyter-widgets/base",
      "_view_module_version": "1.2.0",
      "_view_name": "LayoutView",
      "align_content": null,
      "align_items": null,
      "align_self": null,
      "border": null,
      "bottom": null,
      "display": null,
      "flex": null,
      "flex_flow": null,
      "grid_area": null,
      "grid_auto_columns": null,
      "grid_auto_flow": null,
      "grid_auto_rows": null,
      "grid_column": null,
      "grid_gap": null,
      "grid_row": null,
      "grid_template_areas": null,
      "grid_template_columns": null,
      "grid_template_rows": null,
      "height": null,
      "justify_content": null,
      "justify_items": null,
      "left": null,
      "margin": null,
      "max_height": null,
      "max_width": null,
      "min_height": null,
      "min_width": null,
      "object_fit": null,
      "object_position": null,
      "order": null,
      "overflow": null,
      "overflow_x": null,
      "overflow_y": null,
      "padding": null,
      "right": null,
      "top": null,
      "visibility": null,
      "width": null
     }
    },
    "f6331afe201d49319b76e528e01a9b4b": {
     "model_module": "@jupyter-widgets/controls",
     "model_name": "DescriptionStyleModel",
     "model_module_version": "1.5.0",
     "state": {
      "_model_module": "@jupyter-widgets/controls",
      "_model_module_version": "1.5.0",
      "_model_name": "DescriptionStyleModel",
      "_view_count": null,
      "_view_module": "@jupyter-widgets/base",
      "_view_module_version": "1.2.0",
      "_view_name": "StyleView",
      "description_width": ""
     }
    },
    "792a299872704c10af8061175db96031": {
     "model_module": "@jupyter-widgets/base",
     "model_name": "LayoutModel",
     "model_module_version": "1.2.0",
     "state": {
      "_model_module": "@jupyter-widgets/base",
      "_model_module_version": "1.2.0",
      "_model_name": "LayoutModel",
      "_view_count": null,
      "_view_module": "@jupyter-widgets/base",
      "_view_module_version": "1.2.0",
      "_view_name": "LayoutView",
      "align_content": null,
      "align_items": null,
      "align_self": null,
      "border": null,
      "bottom": null,
      "display": null,
      "flex": null,
      "flex_flow": null,
      "grid_area": null,
      "grid_auto_columns": null,
      "grid_auto_flow": null,
      "grid_auto_rows": null,
      "grid_column": null,
      "grid_gap": null,
      "grid_row": null,
      "grid_template_areas": null,
      "grid_template_columns": null,
      "grid_template_rows": null,
      "height": null,
      "justify_content": null,
      "justify_items": null,
      "left": null,
      "margin": null,
      "max_height": null,
      "max_width": null,
      "min_height": null,
      "min_width": null,
      "object_fit": null,
      "object_position": null,
      "order": null,
      "overflow": null,
      "overflow_x": null,
      "overflow_y": null,
      "padding": null,
      "right": null,
      "top": null,
      "visibility": null,
      "width": null
     }
    },
    "2d7895836c814084be531103d0218650": {
     "model_module": "@jupyter-widgets/controls",
     "model_name": "ProgressStyleModel",
     "model_module_version": "1.5.0",
     "state": {
      "_model_module": "@jupyter-widgets/controls",
      "_model_module_version": "1.5.0",
      "_model_name": "ProgressStyleModel",
      "_view_count": null,
      "_view_module": "@jupyter-widgets/base",
      "_view_module_version": "1.2.0",
      "_view_name": "StyleView",
      "bar_color": null,
      "description_width": ""
     }
    },
    "10420e2dba3244f48c8fcd7d35904e41": {
     "model_module": "@jupyter-widgets/base",
     "model_name": "LayoutModel",
     "model_module_version": "1.2.0",
     "state": {
      "_model_module": "@jupyter-widgets/base",
      "_model_module_version": "1.2.0",
      "_model_name": "LayoutModel",
      "_view_count": null,
      "_view_module": "@jupyter-widgets/base",
      "_view_module_version": "1.2.0",
      "_view_name": "LayoutView",
      "align_content": null,
      "align_items": null,
      "align_self": null,
      "border": null,
      "bottom": null,
      "display": null,
      "flex": null,
      "flex_flow": null,
      "grid_area": null,
      "grid_auto_columns": null,
      "grid_auto_flow": null,
      "grid_auto_rows": null,
      "grid_column": null,
      "grid_gap": null,
      "grid_row": null,
      "grid_template_areas": null,
      "grid_template_columns": null,
      "grid_template_rows": null,
      "height": null,
      "justify_content": null,
      "justify_items": null,
      "left": null,
      "margin": null,
      "max_height": null,
      "max_width": null,
      "min_height": null,
      "min_width": null,
      "object_fit": null,
      "object_position": null,
      "order": null,
      "overflow": null,
      "overflow_x": null,
      "overflow_y": null,
      "padding": null,
      "right": null,
      "top": null,
      "visibility": null,
      "width": null
     }
    },
    "d7b1b50d3f6843be90e00d3352139b2f": {
     "model_module": "@jupyter-widgets/controls",
     "model_name": "DescriptionStyleModel",
     "model_module_version": "1.5.0",
     "state": {
      "_model_module": "@jupyter-widgets/controls",
      "_model_module_version": "1.5.0",
      "_model_name": "DescriptionStyleModel",
      "_view_count": null,
      "_view_module": "@jupyter-widgets/base",
      "_view_module_version": "1.2.0",
      "_view_name": "StyleView",
      "description_width": ""
     }
    },
    "bbdfb7b736f546fea9f2a56a815a8e8f": {
     "model_module": "@jupyter-widgets/controls",
     "model_name": "HBoxModel",
     "model_module_version": "1.5.0",
     "state": {
      "_dom_classes": [],
      "_model_module": "@jupyter-widgets/controls",
      "_model_module_version": "1.5.0",
      "_model_name": "HBoxModel",
      "_view_count": null,
      "_view_module": "@jupyter-widgets/controls",
      "_view_module_version": "1.5.0",
      "_view_name": "HBoxView",
      "box_style": "",
      "children": [
       "IPY_MODEL_0dc1dea99b774b74a84c9c02b6335b94",
       "IPY_MODEL_5edb09d55e7b45c881bbf6a38de92f60",
       "IPY_MODEL_7bd8740ee12a486fbb3d3ae0a2c493b8"
      ],
      "layout": "IPY_MODEL_fa9eff66d6084f0a970408b620afa686"
     }
    },
    "0dc1dea99b774b74a84c9c02b6335b94": {
     "model_module": "@jupyter-widgets/controls",
     "model_name": "HTMLModel",
     "model_module_version": "1.5.0",
     "state": {
      "_dom_classes": [],
      "_model_module": "@jupyter-widgets/controls",
      "_model_module_version": "1.5.0",
      "_model_name": "HTMLModel",
      "_view_count": null,
      "_view_module": "@jupyter-widgets/controls",
      "_view_module_version": "1.5.0",
      "_view_name": "HTMLView",
      "description": "",
      "description_tooltip": null,
      "layout": "IPY_MODEL_3b4a5130401a44daa116828b9fa8d17b",
      "placeholder": "​",
      "style": "IPY_MODEL_21efd9c072db42bf89ad5dbd96b52a01",
      "value": "Downloading (…)lve/main/config.json: 100%"
     }
    },
    "5edb09d55e7b45c881bbf6a38de92f60": {
     "model_module": "@jupyter-widgets/controls",
     "model_name": "FloatProgressModel",
     "model_module_version": "1.5.0",
     "state": {
      "_dom_classes": [],
      "_model_module": "@jupyter-widgets/controls",
      "_model_module_version": "1.5.0",
      "_model_name": "FloatProgressModel",
      "_view_count": null,
      "_view_module": "@jupyter-widgets/controls",
      "_view_module_version": "1.5.0",
      "_view_name": "ProgressView",
      "bar_style": "success",
      "description": "",
      "description_tooltip": null,
      "layout": "IPY_MODEL_d75f60b7f0b94b3d88046ac990446ad4",
      "max": 665,
      "min": 0,
      "orientation": "horizontal",
      "style": "IPY_MODEL_609d29b907424f049de6ef0b86a6541d",
      "value": 665
     }
    },
    "7bd8740ee12a486fbb3d3ae0a2c493b8": {
     "model_module": "@jupyter-widgets/controls",
     "model_name": "HTMLModel",
     "model_module_version": "1.5.0",
     "state": {
      "_dom_classes": [],
      "_model_module": "@jupyter-widgets/controls",
      "_model_module_version": "1.5.0",
      "_model_name": "HTMLModel",
      "_view_count": null,
      "_view_module": "@jupyter-widgets/controls",
      "_view_module_version": "1.5.0",
      "_view_name": "HTMLView",
      "description": "",
      "description_tooltip": null,
      "layout": "IPY_MODEL_6dc9a8ca9270413893e28e3a3807dd51",
      "placeholder": "​",
      "style": "IPY_MODEL_4539f47e9e4c444e9f610dea60db5eb0",
      "value": " 665/665 [00:00&lt;00:00, 18.8kB/s]"
     }
    },
    "fa9eff66d6084f0a970408b620afa686": {
     "model_module": "@jupyter-widgets/base",
     "model_name": "LayoutModel",
     "model_module_version": "1.2.0",
     "state": {
      "_model_module": "@jupyter-widgets/base",
      "_model_module_version": "1.2.0",
      "_model_name": "LayoutModel",
      "_view_count": null,
      "_view_module": "@jupyter-widgets/base",
      "_view_module_version": "1.2.0",
      "_view_name": "LayoutView",
      "align_content": null,
      "align_items": null,
      "align_self": null,
      "border": null,
      "bottom": null,
      "display": null,
      "flex": null,
      "flex_flow": null,
      "grid_area": null,
      "grid_auto_columns": null,
      "grid_auto_flow": null,
      "grid_auto_rows": null,
      "grid_column": null,
      "grid_gap": null,
      "grid_row": null,
      "grid_template_areas": null,
      "grid_template_columns": null,
      "grid_template_rows": null,
      "height": null,
      "justify_content": null,
      "justify_items": null,
      "left": null,
      "margin": null,
      "max_height": null,
      "max_width": null,
      "min_height": null,
      "min_width": null,
      "object_fit": null,
      "object_position": null,
      "order": null,
      "overflow": null,
      "overflow_x": null,
      "overflow_y": null,
      "padding": null,
      "right": null,
      "top": null,
      "visibility": null,
      "width": null
     }
    },
    "3b4a5130401a44daa116828b9fa8d17b": {
     "model_module": "@jupyter-widgets/base",
     "model_name": "LayoutModel",
     "model_module_version": "1.2.0",
     "state": {
      "_model_module": "@jupyter-widgets/base",
      "_model_module_version": "1.2.0",
      "_model_name": "LayoutModel",
      "_view_count": null,
      "_view_module": "@jupyter-widgets/base",
      "_view_module_version": "1.2.0",
      "_view_name": "LayoutView",
      "align_content": null,
      "align_items": null,
      "align_self": null,
      "border": null,
      "bottom": null,
      "display": null,
      "flex": null,
      "flex_flow": null,
      "grid_area": null,
      "grid_auto_columns": null,
      "grid_auto_flow": null,
      "grid_auto_rows": null,
      "grid_column": null,
      "grid_gap": null,
      "grid_row": null,
      "grid_template_areas": null,
      "grid_template_columns": null,
      "grid_template_rows": null,
      "height": null,
      "justify_content": null,
      "justify_items": null,
      "left": null,
      "margin": null,
      "max_height": null,
      "max_width": null,
      "min_height": null,
      "min_width": null,
      "object_fit": null,
      "object_position": null,
      "order": null,
      "overflow": null,
      "overflow_x": null,
      "overflow_y": null,
      "padding": null,
      "right": null,
      "top": null,
      "visibility": null,
      "width": null
     }
    },
    "21efd9c072db42bf89ad5dbd96b52a01": {
     "model_module": "@jupyter-widgets/controls",
     "model_name": "DescriptionStyleModel",
     "model_module_version": "1.5.0",
     "state": {
      "_model_module": "@jupyter-widgets/controls",
      "_model_module_version": "1.5.0",
      "_model_name": "DescriptionStyleModel",
      "_view_count": null,
      "_view_module": "@jupyter-widgets/base",
      "_view_module_version": "1.2.0",
      "_view_name": "StyleView",
      "description_width": ""
     }
    },
    "d75f60b7f0b94b3d88046ac990446ad4": {
     "model_module": "@jupyter-widgets/base",
     "model_name": "LayoutModel",
     "model_module_version": "1.2.0",
     "state": {
      "_model_module": "@jupyter-widgets/base",
      "_model_module_version": "1.2.0",
      "_model_name": "LayoutModel",
      "_view_count": null,
      "_view_module": "@jupyter-widgets/base",
      "_view_module_version": "1.2.0",
      "_view_name": "LayoutView",
      "align_content": null,
      "align_items": null,
      "align_self": null,
      "border": null,
      "bottom": null,
      "display": null,
      "flex": null,
      "flex_flow": null,
      "grid_area": null,
      "grid_auto_columns": null,
      "grid_auto_flow": null,
      "grid_auto_rows": null,
      "grid_column": null,
      "grid_gap": null,
      "grid_row": null,
      "grid_template_areas": null,
      "grid_template_columns": null,
      "grid_template_rows": null,
      "height": null,
      "justify_content": null,
      "justify_items": null,
      "left": null,
      "margin": null,
      "max_height": null,
      "max_width": null,
      "min_height": null,
      "min_width": null,
      "object_fit": null,
      "object_position": null,
      "order": null,
      "overflow": null,
      "overflow_x": null,
      "overflow_y": null,
      "padding": null,
      "right": null,
      "top": null,
      "visibility": null,
      "width": null
     }
    },
    "609d29b907424f049de6ef0b86a6541d": {
     "model_module": "@jupyter-widgets/controls",
     "model_name": "ProgressStyleModel",
     "model_module_version": "1.5.0",
     "state": {
      "_model_module": "@jupyter-widgets/controls",
      "_model_module_version": "1.5.0",
      "_model_name": "ProgressStyleModel",
      "_view_count": null,
      "_view_module": "@jupyter-widgets/base",
      "_view_module_version": "1.2.0",
      "_view_name": "StyleView",
      "bar_color": null,
      "description_width": ""
     }
    },
    "6dc9a8ca9270413893e28e3a3807dd51": {
     "model_module": "@jupyter-widgets/base",
     "model_name": "LayoutModel",
     "model_module_version": "1.2.0",
     "state": {
      "_model_module": "@jupyter-widgets/base",
      "_model_module_version": "1.2.0",
      "_model_name": "LayoutModel",
      "_view_count": null,
      "_view_module": "@jupyter-widgets/base",
      "_view_module_version": "1.2.0",
      "_view_name": "LayoutView",
      "align_content": null,
      "align_items": null,
      "align_self": null,
      "border": null,
      "bottom": null,
      "display": null,
      "flex": null,
      "flex_flow": null,
      "grid_area": null,
      "grid_auto_columns": null,
      "grid_auto_flow": null,
      "grid_auto_rows": null,
      "grid_column": null,
      "grid_gap": null,
      "grid_row": null,
      "grid_template_areas": null,
      "grid_template_columns": null,
      "grid_template_rows": null,
      "height": null,
      "justify_content": null,
      "justify_items": null,
      "left": null,
      "margin": null,
      "max_height": null,
      "max_width": null,
      "min_height": null,
      "min_width": null,
      "object_fit": null,
      "object_position": null,
      "order": null,
      "overflow": null,
      "overflow_x": null,
      "overflow_y": null,
      "padding": null,
      "right": null,
      "top": null,
      "visibility": null,
      "width": null
     }
    },
    "4539f47e9e4c444e9f610dea60db5eb0": {
     "model_module": "@jupyter-widgets/controls",
     "model_name": "DescriptionStyleModel",
     "model_module_version": "1.5.0",
     "state": {
      "_model_module": "@jupyter-widgets/controls",
      "_model_module_version": "1.5.0",
      "_model_name": "DescriptionStyleModel",
      "_view_count": null,
      "_view_module": "@jupyter-widgets/base",
      "_view_module_version": "1.2.0",
      "_view_name": "StyleView",
      "description_width": ""
     }
    }
   }
  }
 },
 "nbformat": 4,
 "nbformat_minor": 5
}
